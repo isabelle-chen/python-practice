{
 "cells": [
  {
   "cell_type": "markdown",
   "metadata": {},
   "source": [
    "# 1\n",
    "Write a Python program to create a Vehicle class with max_speed and mileage instance attributes.\n",
    "Create a child class Bus that will inherit all of the variables and methods of the Vehicle class"
   ]
  },
  {
   "cell_type": "code",
   "execution_count": 2,
   "metadata": {
    "vscode": {
     "languageId": "plaintext"
    },
    "ExecuteTime": {
     "end_time": "2024-03-15T12:57:19.611740Z",
     "start_time": "2024-03-15T12:57:19.605043Z"
    }
   },
   "outputs": [
    {
     "name": "stdout",
     "output_type": "stream",
     "text": [
      "BMW 120 666\n"
     ]
    }
   ],
   "source": [
    "class Vehicle:\n",
    "    def __init__(self, name, max_speed, mileage):\n",
    "        self.name = name\n",
    "        self.max_speed = max_speed\n",
    "        self.mileage = mileage\n",
    "\n",
    "class Bus(Vehicle):\n",
    "    pass\n",
    "\n",
    "big_bus = Bus(\"BMW\", 120, 666)\n",
    "\n",
    "print(big_bus.name, big_bus.max_speed, big_bus.mileage)"
   ]
  },
  {
   "cell_type": "markdown",
   "source": [
    "2. \n",
    "Create a Bus class that inherits from the Vehicle class. Give the capacity argument of Bus.seating_capacity() a default value of 50.\n",
    "\n",
    "Expected Output:\n",
    "The seating capacity of a bus is 50 passengers"
   ],
   "metadata": {
    "collapsed": false
   }
  },
  {
   "cell_type": "code",
   "outputs": [],
   "source": [
    "class Vehicle:\n",
    "    def __init__(self, name, max_speed, mileage):\n",
    "        self.name = name\n",
    "        self.max_speed = max_speed\n",
    "        self.mileage = mileage\n",
    "\n",
    "    def seating_capacity(self, capacity):\n",
    "        return f\"The seating capacity of a {self.name} is {capacity} passengers\"\n",
    "\n",
    "\n",
    "class Bus(Vehicle):\n",
    "    def seating_capacity(self, capacity=50):\n",
    "        return super().seating_capacity(capacity)\n",
    "\n",
    "\n",
    "big_bus = Bus(\"BMW\", 120, 240)\n",
    "print(big_bus.seating_capacity())"
   ],
   "metadata": {
    "collapsed": false
   }
  },
  {
   "cell_type": "markdown",
   "source": [
    "3. \n",
    "Define a property that must have the same value for every class instance (object)\n",
    "Define a class attribute”color” with a default value white. I.e., Every Vehicle should be white.\n",
    "\n",
    "Expected Output:\n",
    "Color: White, Vehicle name: School Volvo, Speed: 180, Mileage: 12\n",
    "Color: White, Vehicle name: Audi Q5, Speed: 240, Mileage: 18"
   ],
   "metadata": {
    "collapsed": false
   }
  },
  {
   "cell_type": "code",
   "outputs": [],
   "source": [
    "class Vehicle:\n",
    "    # Class attribute\n",
    "    color = \"White\"\n",
    "\n",
    "    def __init__(self, name, max_speed, mileage):\n",
    "        self.name = name\n",
    "        self.max_speed = max_speed\n",
    "        self.mileage = mileage\n",
    "\n",
    "class Bus(Vehicle):\n",
    "    pass\n",
    "\n",
    "class Car(Vehicle):\n",
    "    pass\n",
    "\n",
    "School_bus = Bus(\"School Volvo\", 180, 12)\n",
    "print(School_bus.color, School_bus.name, \"Speed:\", School_bus.max_speed, \"Mileage:\", School_bus.mileage)\n",
    "\n",
    "car = Car(\"Audi Q5\", 240, 18)\n",
    "print(car.color, car.name, \"Speed:\", car.max_speed, \"Mileage:\", car.mileage)"
   ],
   "metadata": {
    "collapsed": false
   }
  },
  {
   "cell_type": "markdown",
   "source": [
    "4. Create a Bus child class that inherits from the Vehicle class. The default fare charge of any vehicle is seating capacity * 100. If Vehicle is Bus instance, we need to add an extra 10% on full fare as a maintenance charge. So total fare for bus instance will become the final amount = total fare + 10% of the total fare.\n",
    "\n",
    "Note: The bus seating capacity is 50. so the final fare amount should be 5500. You need to override the fare() method of a Vehicle class in Bus class.\n",
    "\n",
    "Expected Output:\n",
    "Total Bus fare is: 5500.0"
   ],
   "metadata": {
    "collapsed": false
   }
  },
  {
   "cell_type": "code",
   "outputs": [],
   "source": [
    "class Vehicle:\n",
    "    def __init__(self, name, mileage, capacity):\n",
    "        self.name = name\n",
    "        self.mileage = mileage\n",
    "        self.capacity = capacity\n",
    "    def fare(self):\n",
    "        return self.capacity * 100\n",
    "\n",
    "class Bus(Vehicle):\n",
    "    def fare(self):\n",
    "        return super().fare() * (1 + 0.1)\n",
    "\n",
    "School_bus = Bus(\"School Volvo\", 12, 50)\n",
    "print(\"Total Bus fare is:\", School_bus.fare())\n"
   ],
   "metadata": {
    "collapsed": false
   }
  },
  {
   "cell_type": "markdown",
   "source": [
    "5. Write a Python program to create a class representing a Circle. Include methods to calculate its area and perimeter."
   ],
   "metadata": {
    "collapsed": false
   }
  },
  {
   "cell_type": "code",
   "outputs": [],
   "source": [
    "import math                                    \n",
    "                                               \n",
    "class Circle:                                  \n",
    "    def __init__(self, r):                     \n",
    "        self.r = r                             \n",
    "                                               \n",
    "    def area(self):                            \n",
    "        return math.pi * self.r ** 2           \n",
    "                                               \n",
    "    def perimeter(self):                       \n",
    "        return math.pi * self.r * 2            \n",
    "                                               \n",
    "my_circle = Circle(6)                          \n",
    "                                               \n",
    "print(my_circle.area(), my_circle.perimeter()) "
   ],
   "metadata": {
    "collapsed": false
   }
  },
  {
   "cell_type": "markdown",
   "source": [],
   "metadata": {
    "collapsed": false
   }
  },
  {
   "cell_type": "code",
   "outputs": [],
   "source": [
    "# Create a simple banking application that has three classes of information:\n",
    "\n",
    "# -Account holders\n",
    "\n",
    "# -Everyday accounts\n",
    "\n",
    "# -Saving accounts\n",
    "\n",
    "# Think about the properties these classes of information should have. Design the account holder class as a parent to each account type class.\n",
    "\n",
    "# You can start by writing some test data in your code and create a way to select and print the properties of an account holder and their accounts, but ultimately allow for user input and storage of data."
   ],
   "metadata": {
    "collapsed": false
   }
  },
  {
   "cell_type": "code",
   "outputs": [],
   "source": [
    "class Account:\n",
    "    # empty initial setup for easy understanding - can be set up this way\n",
    "    money: int = 0\n",
    "    name: str = \"\"\n",
    "    id: int = 0\n",
    "    \n",
    "    # or this way in python, python can read constructor as initial status\n",
    "    # but in this way, when creating instance, you have to clarify each variable (money, name, id)\n",
    "\n",
    "    # def __init__(self, money, name, id):\n",
    "    #     self.money = 0\n",
    "    #     self.name = \"\"\n",
    "    #     self.id = 0\n",
    "\n",
    "    def make_deposit(self, amount):\n",
    "        self.money += amount\n",
    "        return self.money\n",
    "\n",
    "    def make_withdraw(self, amount):\n",
    "        self.money -= amount\n",
    "        return self.money\n",
    "\n",
    "\n",
    "class Everyday_accounts(Account):\n",
    "    def make_deposit(self, amount):\n",
    "        return super().make_deposit(amount)\n",
    "\n",
    "    def make_withdraw(self, amount):\n",
    "        return super().make_withdraw(amount)\n",
    "\n",
    "\n",
    "class Savings_accounts(Account):\n",
    "    def make_deposit(self, amount):\n",
    "        return super().make_deposit(amount)\n",
    "\n",
    "    def make_withdraw(self, amount):\n",
    "        return super().make_withdraw(amount)\n",
    "\n",
    "# create empty account\n",
    "everyday = Everyday_accounts()\n",
    "# create id  = 3\n",
    "everyday.id = 3\n",
    "\n",
    "\n",
    "print(everyday.id)\n",
    "print(everyday.make_deposit(22))"
   ],
   "metadata": {
    "collapsed": false
   }
  }
 ],
 "metadata": {
  "language_info": {
   "name": "python"
  },
  "kernelspec": {
   "name": "python3",
   "language": "python",
   "display_name": "Python 3 (ipykernel)"
  }
 },
 "nbformat": 4,
 "nbformat_minor": 2
}
